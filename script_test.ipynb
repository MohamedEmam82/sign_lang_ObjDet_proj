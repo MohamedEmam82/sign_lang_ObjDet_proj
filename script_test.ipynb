{
 "cells": [
  {
   "cell_type": "code",
   "execution_count": 14,
   "metadata": {},
   "outputs": [
    {
     "data": {
      "text/plain": [
       "'08-27-2024 12:44:20'"
      ]
     },
     "execution_count": 14,
     "metadata": {},
     "output_type": "execute_result"
    }
   ],
   "source": [
    "from datetime import datetime\n",
    "\n",
    "# formatting the timw / date style\n",
    "datetime.now().strftime('%m-%d-%Y %H:%M:%S')"
   ]
  },
  {
   "cell_type": "code",
   "execution_count": 21,
   "metadata": {},
   "outputs": [
    {
     "name": "stdout",
     "output_type": "stream",
     "text": [
      "C:\\Users\\oraio\\anaconda3\\envs\\signlang\\Lib\\site-packages\\IPython\\log\\08-27-2024_13:16:46.log\n",
      "C:\\Users\\oraio\\anaconda3\\envs\\signlang\\Lib\\site-packages\\IPython\\log\\08-27-2024_13:16:46.log\\08-27-2024_13:16:46.log\n"
     ]
    }
   ],
   "source": [
    "import logging \n",
    "import os\n",
    "from datetime import datetime\n",
    "\n",
    "# from_root -> helps with declaring absolute paths relative to your project root\n",
    "# from_here ->  comes in handy when you want to declare a path relative to the current file\n",
    "from from_root import from_root, from_here\n",
    "\n",
    "# define log file name and ext\n",
    "LOG_FILE = f\"{datetime.now().strftime('%m-%d-%Y_%H:%M:%S')}.log\"\n",
    "log_path = os.path.join(from_root(), 'log', LOG_FILE)\n",
    "LOG_FILE_PATH = os.path.join(log_path, LOG_FILE)\n",
    "\n",
    "print(log_path)\n",
    "print(LOG_FILE_PATH)"
   ]
  },
  {
   "cell_type": "code",
   "execution_count": 6,
   "metadata": {},
   "outputs": [],
   "source": [
    "from sign_language import logger\n",
    "# OR\n",
    "from sign_language.logger import logging\n",
    "\n",
    "logging.info('hi')"
   ]
  },
  {
   "cell_type": "code",
   "execution_count": 24,
   "metadata": {},
   "outputs": [
    {
     "name": "stdout",
     "output_type": "stream",
     "text": [
      "<class 'IndexError'>\n",
      "list index out of range\n",
      "<traceback object at 0x000001AE5AA3B308>\n",
      "<frame at 0x000001AE583F61A8, file 'C:\\\\Users\\\\oraio\\\\AppData\\\\Local\\\\Temp\\\\ipykernel_31444\\\\1414341851.py', line 11, code <module>>\n",
      "6\n",
      "6\n",
      "<built-in method __sizeof__ of traceback object at 0x000001AE5AA3B308>\n"
     ]
    }
   ],
   "source": [
    "import sys\n",
    "\n",
    "vegetables = ['carrot', 'onion', 'broccoli']\n",
    "\n",
    "try:\n",
    "    broc = vegetables[3]\n",
    "except:\n",
    "    err_type, err_discr, traceback = sys.exc_info()\n",
    "    print(err_type)\n",
    "    print(err_discr)\n",
    "    print(traceback)\n",
    "\n",
    "\n",
    "print(traceback.tb_frame)\n",
    "print(traceback.tb_lineno)\n",
    "print(traceback.tb_lasti)\n",
    "print(traceback.__sizeof__)"
   ]
  },
  {
   "cell_type": "code",
   "execution_count": null,
   "metadata": {},
   "outputs": [],
   "source": [
    "\n",
    "# test logging from \"logger\" folder\n",
    "from sign_language.logger import logging\n",
    "#logging.info(\"WELCOME\")\n",
    "\n",
    "#=============================================================\n",
    "\n",
    "# test SignException class from \"exception\" folder\n",
    "from sign_language.exception import SignException\n",
    "import sys\n",
    "\n",
    "\n",
    "#7 / 'm'\n",
    "\n",
    "try:\n",
    "    7 / 'm'\n",
    "\n",
    "except Exception as e:\n",
    "    raise SignException(e, sys) from e\n",
    " \n",
    "\n",
    "\n"
   ]
  }
 ],
 "metadata": {
  "kernelspec": {
   "display_name": "signlang",
   "language": "python",
   "name": "python3"
  },
  "language_info": {
   "codemirror_mode": {
    "name": "ipython",
    "version": 3
   },
   "file_extension": ".py",
   "mimetype": "text/x-python",
   "name": "python",
   "nbconvert_exporter": "python",
   "pygments_lexer": "ipython3",
   "version": "3.7.16"
  }
 },
 "nbformat": 4,
 "nbformat_minor": 2
}
